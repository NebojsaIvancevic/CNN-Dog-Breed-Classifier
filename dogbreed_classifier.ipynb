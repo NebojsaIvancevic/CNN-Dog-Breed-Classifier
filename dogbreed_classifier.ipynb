{
  "nbformat": 4,
  "nbformat_minor": 0,
  "metadata": {
    "colab": {
      "name": "dogbreed-classifier.ipynb",
      "provenance": [],
      "collapsed_sections": [],
      "authorship_tag": "ABX9TyMnFq8YBO/WbRdJ6peBSmUZ",
      "include_colab_link": true
    },
    "kernelspec": {
      "name": "python3",
      "display_name": "Python 3"
    },
    "language_info": {
      "name": "python"
    }
  },
  "cells": [
    {
      "cell_type": "markdown",
      "metadata": {
        "id": "view-in-github",
        "colab_type": "text"
      },
      "source": [
        "<a href=\"https://colab.research.google.com/github/NebojsaIvancevic/CNN-dogbreedclassifier/blob/main/dogbreed_classifier.ipynb\" target=\"_parent\"><img src=\"https://colab.research.google.com/assets/colab-badge.svg\" alt=\"Open In Colab\"/></a>"
      ]
    },
    {
      "cell_type": "code",
      "metadata": {
        "id": "KPI7oqwp1qd7"
      },
      "source": [
        "#Create a dog breed classifier using convolutional neural networks and a pretrained model"
      ],
      "execution_count": null,
      "outputs": []
    },
    {
      "cell_type": "markdown",
      "metadata": {
        "id": "flOokwAL1-lW"
      },
      "source": [
        "We are using the stanford dogs dataset from kaggle"
      ]
    },
    {
      "cell_type": "code",
      "metadata": {
        "id": "fxCa4wtY2FGL"
      },
      "source": [
        "!pip install tensorflow-gpu"
      ],
      "execution_count": null,
      "outputs": []
    },
    {
      "cell_type": "markdown",
      "metadata": {
        "id": "5POj0Ry22NZl"
      },
      "source": [
        "We are using colab provided gpus so we need to install required libraries."
      ]
    },
    {
      "cell_type": "code",
      "metadata": {
        "id": "GLQ06xLM2Z-1"
      },
      "source": [
        "import tensorflow as tf\n",
        "from glob import glob\n",
        "import pandas as pd\n",
        "tf.__version__"
      ],
      "execution_count": null,
      "outputs": []
    },
    {
      "cell_type": "markdown",
      "metadata": {
        "id": "0oTxRE3h2j3c"
      },
      "source": [
        "Also we are fetching data directly from the google drive."
      ]
    }
  ]
}