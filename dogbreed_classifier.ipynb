{
  "nbformat": 4,
  "nbformat_minor": 0,
  "metadata": {
    "colab": {
      "name": "dogbreed-classifier.ipynb",
      "provenance": [],
      "collapsed_sections": [],
      "mount_file_id": "1dD-YMmDcQsQfApQXmLSnHovWoxfY-v10",
      "authorship_tag": "ABX9TyOHGg5erm+CpssTMwQNiQV2",
      "include_colab_link": true
    },
    "kernelspec": {
      "name": "python3",
      "display_name": "Python 3"
    },
    "language_info": {
      "name": "python"
    }
  },
  "cells": [
    {
      "cell_type": "markdown",
      "metadata": {
        "id": "view-in-github",
        "colab_type": "text"
      },
      "source": [
        "<a href=\"https://colab.research.google.com/github/NebojsaIvancevic/CNN-dogbreedclassifier/blob/main/dogbreed_classifier.ipynb\" target=\"_parent\"><img src=\"https://colab.research.google.com/assets/colab-badge.svg\" alt=\"Open In Colab\"/></a>"
      ]
    },
    {
      "cell_type": "markdown",
      "metadata": {
        "id": "qWL-fpxwjTVc"
      },
      "source": [
        "# Resources\n",
        "\n",
        "\n",
        "> [Deep learning with Python, TensorFlow and Keras](https://pythonprogramming.net/)\n",
        "\n",
        "\n",
        "> [Dog breed classifier transfer learning](https://towardsdatascience.com/dog-breed-classification-hands-on-approach-b5e4f88c333e)\n",
        "\n",
        "> [Best pre trained models](https://www.analyticsvidhya.com/blog/2020/08/top-4-pre-trained-models-for-image-classification-with-python-code/)\n",
        "\n",
        "> [Basics of machine learning image techniques](https://iq.opengenus.org/basics-of-machine-learning-image-classification-techniques/)\n",
        "\n",
        "\n",
        "\n",
        "\n",
        "\n",
        "\n",
        "\n",
        "\n",
        "\n"
      ]
    },
    {
      "cell_type": "code",
      "metadata": {
        "id": "KPI7oqwp1qd7"
      },
      "source": [
        "#Create a dog breed classifier using convolutional neural networks and a pretrained model"
      ],
      "execution_count": null,
      "outputs": []
    },
    {
      "cell_type": "markdown",
      "metadata": {
        "id": "flOokwAL1-lW"
      },
      "source": [
        "We are using the stanford dogs dataset from kaggle"
      ]
    },
    {
      "cell_type": "code",
      "metadata": {
        "id": "fxCa4wtY2FGL",
        "colab": {
          "base_uri": "https://localhost:8080/"
        },
        "outputId": "9e6b86d8-aed3-474e-9e5c-d148927cbde4"
      },
      "source": [
        "!pip install tensorflow-gpu"
      ],
      "execution_count": null,
      "outputs": [
        {
          "output_type": "stream",
          "text": [
            "\u001b[31mERROR: Operation cancelled by user\u001b[0m\n"
          ],
          "name": "stdout"
        }
      ]
    },
    {
      "cell_type": "markdown",
      "metadata": {
        "id": "5POj0Ry22NZl"
      },
      "source": [
        "We are using colab provided gpus so we need to install required libraries."
      ]
    },
    {
      "cell_type": "code",
      "metadata": {
        "id": "GLQ06xLM2Z-1"
      },
      "source": [
        "import tensorflow as tf\n",
        "# tf.__version__\n",
        "from tensorflow.keras.models import Sequential\n",
        "from tensorflow.keras.layers import Dense, Dropout, Activation, Flatten, Conv2D, MaxPooling2D\n",
        "import pickle\n",
        "from glob import glob\n",
        "import numpy as np\n",
        "from keras.preprocessing.image import load_img\n",
        "import pandas as pd\n",
        "import os\n",
        "import matplotlib.pyplot as plt\n",
        "from tqdm import tqdm"
      ],
      "execution_count": null,
      "outputs": []
    },
    {
      "cell_type": "markdown",
      "metadata": {
        "id": "0oTxRE3h2j3c"
      },
      "source": [
        "Also we are fetching data directly from the google drive."
      ]
    },
    {
      "cell_type": "code",
      "metadata": {
        "id": "_9wWsqWelrOX",
        "colab": {
          "base_uri": "https://localhost:8080/"
        },
        "outputId": "87897457-797b-478c-bc44-df1af15fcc59"
      },
      "source": [
        "!nvidia-smi"
      ],
      "execution_count": null,
      "outputs": [
        {
          "output_type": "stream",
          "text": [
            "NVIDIA-SMI has failed because it couldn't communicate with the NVIDIA driver. Make sure that the latest NVIDIA driver is installed and running.\n",
            "\n"
          ],
          "name": "stdout"
        }
      ]
    },
    {
      "cell_type": "code",
      "metadata": {
        "id": "yHloLb6iCH63"
      },
      "source": [
        "train_path = \"/content/drive/MyDrive/Datasets/dataset#6dogbreedclassification/train\"\n",
        "test_path = \"/content/drive/MyDrive/Datasets/dataset#6dogbreedclassification/test\"\n",
        "labels_path = \"/content/drive/MyDrive/Datasets/dataset#6dogbreedclassification/labels.csv\""
      ],
      "execution_count": null,
      "outputs": []
    },
    {
      "cell_type": "code",
      "metadata": {
        "id": "b2WW4c8Alsn3",
        "colab": {
          "base_uri": "https://localhost:8080/",
          "height": 206
        },
        "outputId": "21701e20-96c7-4198-97fb-59e1eb6d9e34"
      },
      "source": [
        "labels = pd.read_csv(labels_path)\n",
        "\n",
        "labels.head()\n"
      ],
      "execution_count": null,
      "outputs": [
        {
          "output_type": "execute_result",
          "data": {
            "text/html": [
              "<div>\n",
              "<style scoped>\n",
              "    .dataframe tbody tr th:only-of-type {\n",
              "        vertical-align: middle;\n",
              "    }\n",
              "\n",
              "    .dataframe tbody tr th {\n",
              "        vertical-align: top;\n",
              "    }\n",
              "\n",
              "    .dataframe thead th {\n",
              "        text-align: right;\n",
              "    }\n",
              "</style>\n",
              "<table border=\"1\" class=\"dataframe\">\n",
              "  <thead>\n",
              "    <tr style=\"text-align: right;\">\n",
              "      <th></th>\n",
              "      <th>id</th>\n",
              "      <th>breed</th>\n",
              "    </tr>\n",
              "  </thead>\n",
              "  <tbody>\n",
              "    <tr>\n",
              "      <th>0</th>\n",
              "      <td>000bec180eb18c7604dcecc8fe0dba07</td>\n",
              "      <td>boston_bull</td>\n",
              "    </tr>\n",
              "    <tr>\n",
              "      <th>1</th>\n",
              "      <td>001513dfcb2ffafc82cccf4d8bbaba97</td>\n",
              "      <td>dingo</td>\n",
              "    </tr>\n",
              "    <tr>\n",
              "      <th>2</th>\n",
              "      <td>001cdf01b096e06d78e9e5112d419397</td>\n",
              "      <td>pekinese</td>\n",
              "    </tr>\n",
              "    <tr>\n",
              "      <th>3</th>\n",
              "      <td>00214f311d5d2247d5dfe4fe24b2303d</td>\n",
              "      <td>bluetick</td>\n",
              "    </tr>\n",
              "    <tr>\n",
              "      <th>4</th>\n",
              "      <td>0021f9ceb3235effd7fcde7f7538ed62</td>\n",
              "      <td>golden_retriever</td>\n",
              "    </tr>\n",
              "  </tbody>\n",
              "</table>\n",
              "</div>"
            ],
            "text/plain": [
              "                                 id             breed\n",
              "0  000bec180eb18c7604dcecc8fe0dba07       boston_bull\n",
              "1  001513dfcb2ffafc82cccf4d8bbaba97             dingo\n",
              "2  001cdf01b096e06d78e9e5112d419397          pekinese\n",
              "3  00214f311d5d2247d5dfe4fe24b2303d          bluetick\n",
              "4  0021f9ceb3235effd7fcde7f7538ed62  golden_retriever"
            ]
          },
          "metadata": {},
          "execution_count": 159
        }
      ]
    },
    {
      "cell_type": "code",
      "metadata": {
        "id": "yYqmT9ONlxo3",
        "colab": {
          "base_uri": "https://localhost:8080/"
        },
        "outputId": "f8c112dc-0d25-41a2-c656-39669d16df97"
      },
      "source": [
        "labels.describe()\n",
        "len(os.listdir(\"/content/drive/MyDrive/Datasets/dataset#6dogbreedclassification/test\"))"
      ],
      "execution_count": null,
      "outputs": [
        {
          "output_type": "execute_result",
          "data": {
            "text/plain": [
              "10357"
            ]
          },
          "metadata": {},
          "execution_count": 179
        }
      ]
    },
    {
      "cell_type": "code",
      "metadata": {
        "colab": {
          "base_uri": "https://localhost:8080/"
        },
        "id": "yDfnAbd_YIbR",
        "outputId": "4a2fda01-1032-4733-d0c5-f80e2e799f3d"
      },
      "source": [
        "# REMOVING IMAGES WITHOUT THE PROPER ID\n",
        "breed = labels[\"breed\"]\n",
        "#print(breed) #There is 120 unique breed of dogs\n",
        "print(len(breed))\n",
        "print(len(ids))\n",
        "len(os.listdir(\"/content/drive/MyDrive/Datasets/dataset#6dogbreedclassification/train\"))\n",
        "array = []\n",
        "arrayjos = []\n",
        "#arrayjos.append(labels['id'])\n",
        "for image in os.listdir(train_path):\n",
        "    img = image.split(\".\")[0]\n",
        "    array.append(img)\n",
        "  \n",
        "    \n",
        "    "
      ],
      "execution_count": null,
      "outputs": [
        {
          "output_type": "stream",
          "text": [
            "10222\n",
            "10222\n"
          ],
          "name": "stdout"
        }
      ]
    },
    {
      "cell_type": "code",
      "metadata": {
        "colab": {
          "base_uri": "https://localhost:8080/"
        },
        "id": "EdTk38KHhPEI",
        "outputId": "aa9ee90e-6468-41dc-e997-1dec3eb30ecc"
      },
      "source": [
        "if len(os.listdir(\"/content/drive/MyDrive/Datasets/dataset#6dogbreedclassification/train\")) == len(labels['id']):\n",
        "    print('Number of file matches number of actual images!')\n",
        "else:\n",
        "    print('Number of file doesnot matches number of actual images!!')"
      ],
      "execution_count": null,
      "outputs": [
        {
          "output_type": "stream",
          "text": [
            "Number of file doesnot matches number of actual images!!\n"
          ],
          "name": "stdout"
        }
      ]
    },
    {
      "cell_type": "code",
      "metadata": {
        "colab": {
          "base_uri": "https://localhost:8080/"
        },
        "id": "tBp8UABsmhlM",
        "outputId": "b1251ea4-8758-4553-eb82-9fb381451a74"
      },
      "source": [
        "#Create list of alphabetically sorted labels.\n",
        "classes = sorted(list(set(labels['breed'])))\n",
        "n_classes = len(classes)\n",
        "print('Total unique breed {}'.format(n_classes))\n",
        "\n",
        "#Map each label string to an integer label.\n",
        "class_to_num = dict(zip(classes, range(n_classes)))\n",
        "class_to_num"
      ],
      "execution_count": null,
      "outputs": [
        {
          "output_type": "stream",
          "text": [
            "Total unique breed 120\n"
          ],
          "name": "stdout"
        },
        {
          "output_type": "execute_result",
          "data": {
            "text/plain": [
              "{'affenpinscher': 0,\n",
              " 'afghan_hound': 1,\n",
              " 'african_hunting_dog': 2,\n",
              " 'airedale': 3,\n",
              " 'american_staffordshire_terrier': 4,\n",
              " 'appenzeller': 5,\n",
              " 'australian_terrier': 6,\n",
              " 'basenji': 7,\n",
              " 'basset': 8,\n",
              " 'beagle': 9,\n",
              " 'bedlington_terrier': 10,\n",
              " 'bernese_mountain_dog': 11,\n",
              " 'black-and-tan_coonhound': 12,\n",
              " 'blenheim_spaniel': 13,\n",
              " 'bloodhound': 14,\n",
              " 'bluetick': 15,\n",
              " 'border_collie': 16,\n",
              " 'border_terrier': 17,\n",
              " 'borzoi': 18,\n",
              " 'boston_bull': 19,\n",
              " 'bouvier_des_flandres': 20,\n",
              " 'boxer': 21,\n",
              " 'brabancon_griffon': 22,\n",
              " 'briard': 23,\n",
              " 'brittany_spaniel': 24,\n",
              " 'bull_mastiff': 25,\n",
              " 'cairn': 26,\n",
              " 'cardigan': 27,\n",
              " 'chesapeake_bay_retriever': 28,\n",
              " 'chihuahua': 29,\n",
              " 'chow': 30,\n",
              " 'clumber': 31,\n",
              " 'cocker_spaniel': 32,\n",
              " 'collie': 33,\n",
              " 'curly-coated_retriever': 34,\n",
              " 'dandie_dinmont': 35,\n",
              " 'dhole': 36,\n",
              " 'dingo': 37,\n",
              " 'doberman': 38,\n",
              " 'english_foxhound': 39,\n",
              " 'english_setter': 40,\n",
              " 'english_springer': 41,\n",
              " 'entlebucher': 42,\n",
              " 'eskimo_dog': 43,\n",
              " 'flat-coated_retriever': 44,\n",
              " 'french_bulldog': 45,\n",
              " 'german_shepherd': 46,\n",
              " 'german_short-haired_pointer': 47,\n",
              " 'giant_schnauzer': 48,\n",
              " 'golden_retriever': 49,\n",
              " 'gordon_setter': 50,\n",
              " 'great_dane': 51,\n",
              " 'great_pyrenees': 52,\n",
              " 'greater_swiss_mountain_dog': 53,\n",
              " 'groenendael': 54,\n",
              " 'ibizan_hound': 55,\n",
              " 'irish_setter': 56,\n",
              " 'irish_terrier': 57,\n",
              " 'irish_water_spaniel': 58,\n",
              " 'irish_wolfhound': 59,\n",
              " 'italian_greyhound': 60,\n",
              " 'japanese_spaniel': 61,\n",
              " 'keeshond': 62,\n",
              " 'kelpie': 63,\n",
              " 'kerry_blue_terrier': 64,\n",
              " 'komondor': 65,\n",
              " 'kuvasz': 66,\n",
              " 'labrador_retriever': 67,\n",
              " 'lakeland_terrier': 68,\n",
              " 'leonberg': 69,\n",
              " 'lhasa': 70,\n",
              " 'malamute': 71,\n",
              " 'malinois': 72,\n",
              " 'maltese_dog': 73,\n",
              " 'mexican_hairless': 74,\n",
              " 'miniature_pinscher': 75,\n",
              " 'miniature_poodle': 76,\n",
              " 'miniature_schnauzer': 77,\n",
              " 'newfoundland': 78,\n",
              " 'norfolk_terrier': 79,\n",
              " 'norwegian_elkhound': 80,\n",
              " 'norwich_terrier': 81,\n",
              " 'old_english_sheepdog': 82,\n",
              " 'otterhound': 83,\n",
              " 'papillon': 84,\n",
              " 'pekinese': 85,\n",
              " 'pembroke': 86,\n",
              " 'pomeranian': 87,\n",
              " 'pug': 88,\n",
              " 'redbone': 89,\n",
              " 'rhodesian_ridgeback': 90,\n",
              " 'rottweiler': 91,\n",
              " 'saint_bernard': 92,\n",
              " 'saluki': 93,\n",
              " 'samoyed': 94,\n",
              " 'schipperke': 95,\n",
              " 'scotch_terrier': 96,\n",
              " 'scottish_deerhound': 97,\n",
              " 'sealyham_terrier': 98,\n",
              " 'shetland_sheepdog': 99,\n",
              " 'shih-tzu': 100,\n",
              " 'siberian_husky': 101,\n",
              " 'silky_terrier': 102,\n",
              " 'soft-coated_wheaten_terrier': 103,\n",
              " 'staffordshire_bullterrier': 104,\n",
              " 'standard_poodle': 105,\n",
              " 'standard_schnauzer': 106,\n",
              " 'sussex_spaniel': 107,\n",
              " 'tibetan_mastiff': 108,\n",
              " 'tibetan_terrier': 109,\n",
              " 'toy_poodle': 110,\n",
              " 'toy_terrier': 111,\n",
              " 'vizsla': 112,\n",
              " 'walker_hound': 113,\n",
              " 'weimaraner': 114,\n",
              " 'welsh_springer_spaniel': 115,\n",
              " 'west_highland_white_terrier': 116,\n",
              " 'whippet': 117,\n",
              " 'wire-haired_fox_terrier': 118,\n",
              " 'yorkshire_terrier': 119}"
            ]
          },
          "metadata": {},
          "execution_count": 183
        }
      ]
    },
    {
      "cell_type": "code",
      "metadata": {
        "id": "yyNTfrbCtCF-"
      },
      "source": [
        "input_shape = (331,331,3)\n",
        "\n",
        "\n",
        "def images_to_array(directory, label_dataframe, target_size = input_shape):\n",
        "    \n",
        "    image_labels = label_dataframe['breed']\n",
        "    images = np.zeros([len(label_dataframe), target_size[0], target_size[1], target_size[2]],dtype=np.uint8) #as we have huge data and limited ram memory. uint8 takes less memory\n",
        "    y = np.zeros([len(label_dataframe),1],dtype = np.uint8)\n",
        "    \n",
        "    for ix, image_name in enumerate(tqdm(label_dataframe['id'].values)):\n",
        "        img_dir = os.path.join(directory, image_name + '.jpg')\n",
        "        img = load_img(img_dir, target_size = target_size)\n",
        "#         img = np.expand_dims(img, axis=0)\n",
        "#         img = processed_image_resnet(img)\n",
        "#         img = img/255\n",
        "        images[ix]=img\n",
        "#         images[ix] = img_to_array(img)\n",
        "        del img\n",
        "        \n",
        "        dog_breed = image_labels[ix]\n",
        "        y[ix] = class_to_num[dog_breed]\n",
        "    \n",
        "    y = to_categorical(y)\n",
        "    \n",
        "    return images,y"
      ],
      "execution_count": null,
      "outputs": []
    },
    {
      "cell_type": "code",
      "metadata": {
        "colab": {
          "base_uri": "https://localhost:8080/"
        },
        "id": "_UWrXtZltG1e",
        "outputId": "d645eea2-9ce5-434b-e941-e83e9e95ceb1"
      },
      "source": [
        "import time \n",
        "t = time.time()\n",
        "\n",
        "X,y = images_to_array(\"/content/drive/MyDrive/Datasets/dataset#6dogbreedclassification/train\", labels[:])\n",
        "\n",
        "print('runtime in seconds: {}'.format(time.time() - t))"
      ],
      "execution_count": null,
      "outputs": [
        {
          "output_type": "stream",
          "text": [
            " 30%|██▉       | 3044/10222 [11:28<24:18,  4.92it/s]"
          ],
          "name": "stderr"
        }
      ]
    }
  ]
}